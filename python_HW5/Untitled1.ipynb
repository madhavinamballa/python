{
 "cells": [
  {
   "cell_type": "code",
   "execution_count": 1,
   "metadata": {},
   "outputs": [
    {
     "name": "stdout",
     "output_type": "stream",
     "text": [
      "enter filenamembox-short.txt\n",
      "Resource/mbox-short.txt\n",
      "file cannot be opened:  mbox-short.txt\n"
     ]
    }
   ],
   "source": [
    "import os\n",
    "fname=input(\"enter filename\")\n",
    "basepath = 'Resource/'\n",
    "filename=os.path.join(basepath, fname)\n",
    "print(filename)\n",
    "try:\n",
    "    if fname==\"na na boo boo\":\n",
    "        print(\"NA NA BOO BOO TO YOU-you have been punk'd!\")\n",
    "    else:\n",
    "        fhand=open(fname)\n",
    "        for line in fhand:\n",
    "            if line.startswith('X-DSPAM-Confidence:'):\n",
    "                count=count+1\n",
    "        print('there were ',count,'subject lines in',fname)\n",
    "except:\n",
    "    print('file cannot be opened: ',fname)\n",
    "    exit()"
   ]
  },
  {
   "cell_type": "code",
   "execution_count": null,
   "metadata": {},
   "outputs": [],
   "source": []
  }
 ],
 "metadata": {
  "kernelspec": {
   "display_name": "Python 3",
   "language": "python",
   "name": "python3"
  },
  "language_info": {
   "codemirror_mode": {
    "name": "ipython",
    "version": 3
   },
   "file_extension": ".py",
   "mimetype": "text/x-python",
   "name": "python",
   "nbconvert_exporter": "python",
   "pygments_lexer": "ipython3",
   "version": "3.8.3"
  }
 },
 "nbformat": 4,
 "nbformat_minor": 4
}
