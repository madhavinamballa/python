{
 "cells": [
  {
   "cell_type": "code",
   "execution_count": 30,
   "metadata": {},
   "outputs": [
    {
     "name": "stdout",
     "output_type": "stream",
     "text": [
      "Enter the file name: mbox-short.txt\n",
      "4 3\n",
      "6 1\n",
      "7 1\n",
      "9 2\n",
      "10 3\n",
      "11 6\n",
      "14 1\n",
      "15 2\n",
      "16 4\n",
      "17 2\n",
      "18 1\n",
      "19 1\n"
     ]
    }
   ],
   "source": [
    "from collections import Counter\n",
    "fname=input(\"Enter the file name: \")\n",
    "count=0\n",
    "my_list=[]\n",
    "fhand=open(fname)\n",
    "for line in fhand:\n",
    "#         line=line.strip()\n",
    "    if not line.startswith('From'):\n",
    "        continue\n",
    "#     count=count+1\n",
    "    words=line.split()\n",
    "    if len(words)==7:\n",
    "#         print(words)\n",
    "        my_list.append(int(words[-2].split(\":\")[0]))\n",
    " \n",
    "my_list=dict(Counter(my_list))\n",
    "sorted(my_list.keys())\n",
    "for key in sorted(my_list.keys()) :\n",
    "    print(key , my_list[key])"
   ]
  },
  {
   "cell_type": "code",
   "execution_count": 37,
   "metadata": {},
   "outputs": [
    {
     "name": "stdout",
     "output_type": "stream",
     "text": [
      "['0.8475']\n",
      "['0.0000']\n",
      "['0.6178']\n",
      "['0.0000']\n",
      "['0.6961']\n",
      "['0.0000']\n",
      "['0.7565']\n",
      "['0.0000']\n",
      "['0.7626']\n",
      "['0.0000']\n",
      "['0.7556']\n",
      "['0.0000']\n",
      "['0.7002']\n",
      "['0.0000']\n",
      "['0.7615']\n",
      "['0.0000']\n",
      "['0.7601']\n",
      "['0.0000']\n",
      "['0.7605']\n",
      "['0.0000']\n",
      "['0.6959']\n",
      "['0.0000']\n",
      "['0.7606']\n",
      "['0.0000']\n",
      "['0.7559']\n",
      "['0.0000']\n",
      "['0.7605']\n",
      "['0.0000']\n",
      "['0.6932']\n",
      "['0.0000']\n",
      "['0.7558']\n",
      "['0.0000']\n",
      "['0.6526']\n",
      "['0.0000']\n",
      "['0.6948']\n",
      "['0.0000']\n",
      "['0.6528']\n",
      "['0.0000']\n",
      "['0.7002']\n",
      "['0.0000']\n",
      "['0.7554']\n",
      "['0.0000']\n",
      "['0.6956']\n",
      "['0.0000']\n",
      "['0.6959']\n",
      "['0.0000']\n",
      "['0.7556']\n",
      "['0.0000']\n",
      "['0.9846']\n",
      "['0.0000']\n",
      "['0.8509']\n",
      "['0.0000']\n",
      "['0.9907']\n",
      "['0.0000']\n"
     ]
    }
   ],
   "source": [
    "import re\n",
    "hand=open('mbox-short.txt')\n",
    "for line in hand:\n",
    "    line=line.rstrip()\n",
    "#     if re.search('^F..m',line):\n",
    "#         print(line)\n",
    "    x=re.findall('\\S+@\\S+',line)\n",
    "    x=re.findall('^X\\S*: ([0-9.]+)',line)\n",
    "    if len(x)>0:\n",
    "        print(x)"
   ]
  },
  {
   "cell_type": "code",
   "execution_count": 47,
   "metadata": {},
   "outputs": [
    {
     "name": "stdout",
     "output_type": "stream",
     "text": [
      "Enter a regular expression.java$\n",
      "mbox-short.txt had 60 lines that matched java$\n"
     ]
    }
   ],
   "source": [
    "import re\n",
    "\n",
    "# regexp = input('Enter a regular expression: ')\n",
    "x=input('Enter a regular expression.')\n",
    "file_name='mbox-short.txt'\n",
    "file = open('mbox-short.txt')\n",
    "\n",
    "count = 0\n",
    "for line in file:\n",
    "  line=line.rstrip()\n",
    "  if re.search('\\\\b' + x + '\\\\b', line):\n",
    "    count=count+1\n",
    "print (f'{file_name} had {count} lines that matched {x}')"
   ]
  },
  {
   "cell_type": "code",
   "execution_count": 52,
   "metadata": {},
   "outputs": [
    {
     "name": "stdout",
     "output_type": "stream",
     "text": [
      "Enter file:mbox-short.txt\n",
      "39756\n"
     ]
    }
   ],
   "source": [
    "import re\n",
    "count = 0\n",
    "revisions = 0\n",
    "x=input('Enter file:')\n",
    "#Opening the file so that we can search through it\n",
    "hand = open(x)\n",
    "#Going through each line of the file to find all the instance of the words 'New Revision: \n",
    "#397*' After we've found this in the code, we're going to slice and extract the number.\n",
    "#We'll count each instance and add each new found one to the next to make the sum\n",
    "for line in hand:\n",
    "    line = line.rstrip()\n",
    "    if re.findall('New Revision: 397*', line):\n",
    "      rev_num = line[14:19]\n",
    "      count += 1\n",
    "      revisions = revisions + float(rev_num)\n",
    "#Using our count and sum from before, we can not calculate the average      \n",
    "average = revisions/count\n",
    "print(int(average))"
   ]
  },
  {
   "cell_type": "code",
   "execution_count": 53,
   "metadata": {},
   "outputs": [
    {
     "name": "stdout",
     "output_type": "stream",
     "text": [
      "Enter file name: mbox-short.txt\n",
      "0.09290243193820177 e\n",
      "0.08926221523422145 a\n",
      "0.07680344538820433 i\n",
      "0.0713345752226001 o\n",
      "0.06945465110317366 r\n",
      "0.06921538803342847 t\n",
      "0.06388323962196435 s\n",
      "0.05337275477244373 u\n",
      "0.052774597098080765 c\n",
      "0.04400731461384649 n\n",
      "0.04267427751098046 p\n",
      "0.04163177413566216 m\n",
      "0.03424879941209646 d\n",
      "0.03130928169808419 l\n",
      "0.023789585220378377 h\n",
      "0.021482405619264094 f\n",
      "0.019944285885187908 k\n",
      "0.01938030864935997 b\n",
      "0.01755165518773606 g\n",
      "0.017038948609710662 v\n",
      "0.01638952027754516 j\n",
      "0.01098901098901099 y\n",
      "0.010014868490762736 w\n",
      "0.008237485686941364 x\n",
      "0.0013330371028660297 z\n",
      "0.0009741424982482526 q\n"
     ]
    }
   ],
   "source": [
    "\n",
    "import string\n",
    "\n",
    "counts = 0                          # Initialize variables\n",
    "dictionary_counts = dict()\n",
    "relative_lst = list()\n",
    "\n",
    "fname = input('Enter file name: ')\n",
    "try:\n",
    "    fhand = open(fname)\n",
    "except FileNotFoundError:\n",
    "    print('File cannot be opened:', fname)\n",
    "    exit()\n",
    "\n",
    "for line in fhand:\n",
    "    line = line.translate(str.maketrans('', '', string.digits))\n",
    "    line = line.translate(str.maketrans('', '', string.punctuation))\n",
    "    line = line.lower()\n",
    "\n",
    "    # Removes numbers and punctuation then sets all letters to lower case\n",
    "    words = line.split()\n",
    "    for word in words:\n",
    "        for letter in word:\n",
    "            # Count each letter for relative frequencies\n",
    "            counts += 1\n",
    "            if letter not in dictionary_counts:\n",
    "                dictionary_counts[letter] = 1\n",
    "            else:\n",
    "                dictionary_counts[letter] += 1\n",
    "\n",
    "for key, val in list(dictionary_counts.items()):\n",
    "    relative_lst.append((val / counts, key))  # Computes the relative frequency\n",
    "\n",
    "relative_lst.sort(reverse=True)         # Sorts from highest rel freq\n",
    "\n",
    "for key, val in relative_lst:\n",
    "    print(key, val)"
   ]
  },
  {
   "cell_type": "code",
   "execution_count": 54,
   "metadata": {},
   "outputs": [],
   "source": [
    "def addStrings(num1: str, num2: str) -> str:\n",
    "        res = []\n",
    "\n",
    "        carry = 0\n",
    "        p1 = len(num1) - 1\n",
    "        p2 = len(num2) - 1\n",
    "        while p1 >= 0 or p2 >= 0:\n",
    "            x1 = ord(num1[p1]) - ord('0') if p1 >= 0 else 0\n",
    "            x2 = ord(num2[p2]) - ord('0') if p2 >= 0 else 0\n",
    "            value = (x1 + x2 + carry) % 10\n",
    "            carry = (x1 + x2 + carry) // 10\n",
    "            res.append(value)\n",
    "            p1 -= 1\n",
    "            p2 -= 1\n",
    "        \n",
    "        if carry:\n",
    "            res.append(carry)\n",
    "        \n",
    "        return ''.join(str(x) for x in res[::-1])"
   ]
  },
  {
   "cell_type": "code",
   "execution_count": 55,
   "metadata": {},
   "outputs": [
    {
     "ename": "SyntaxError",
     "evalue": "invalid syntax (<ipython-input-55-cdc5578c1867>, line 1)",
     "output_type": "error",
     "traceback": [
      "\u001b[0;36m  File \u001b[0;32m\"<ipython-input-55-cdc5578c1867>\"\u001b[0;36m, line \u001b[0;32m1\u001b[0m\n\u001b[0;31m    addStrings(num1: str, num2: str)\u001b[0m\n\u001b[0m                   ^\u001b[0m\n\u001b[0;31mSyntaxError\u001b[0m\u001b[0;31m:\u001b[0m invalid syntax\n"
     ]
    }
   ],
   "source": [
    "addStrings(num1: str, num2: str)"
   ]
  },
  {
   "cell_type": "code",
   "execution_count": 56,
   "metadata": {},
   "outputs": [
    {
     "name": "stdout",
     "output_type": "stream",
     "text": [
      "48\n"
     ]
    }
   ],
   "source": [
    "print(ord('0'))"
   ]
  },
  {
   "cell_type": "code",
   "execution_count": 64,
   "metadata": {},
   "outputs": [
    {
     "name": "stdout",
     "output_type": "stream",
     "text": [
      "48\n"
     ]
    }
   ],
   "source": [
    "p1='023'\n",
    "print(ord(p1[0]))\n"
   ]
  },
  {
   "cell_type": "code",
   "execution_count": 68,
   "metadata": {},
   "outputs": [
    {
     "ename": "AssertionError",
     "evalue": "",
     "output_type": "error",
     "traceback": [
      "\u001b[0;31m---------------------------------------------------------------------------\u001b[0m",
      "\u001b[0;31mAssertionError\u001b[0m                            Traceback (most recent call last)",
      "\u001b[0;32m<ipython-input-68-1456461a5bd3>\u001b[0m in \u001b[0;36m<module>\u001b[0;34m\u001b[0m\n\u001b[1;32m     13\u001b[0m \u001b[0;32mif\u001b[0m \u001b[0m__name__\u001b[0m \u001b[0;34m==\u001b[0m \u001b[0;34m\"__main__\"\u001b[0m\u001b[0;34m:\u001b[0m\u001b[0;34m\u001b[0m\u001b[0;34m\u001b[0m\u001b[0m\n\u001b[1;32m     14\u001b[0m     \u001b[0mtest_new_sum_list\u001b[0m\u001b[0;34m(\u001b[0m\u001b[0;34m)\u001b[0m\u001b[0;34m\u001b[0m\u001b[0;34m\u001b[0m\u001b[0m\n\u001b[0;32m---> 15\u001b[0;31m     \u001b[0mtest_new_sum_tuple\u001b[0m\u001b[0;34m(\u001b[0m\u001b[0;34m)\u001b[0m\u001b[0;34m\u001b[0m\u001b[0;34m\u001b[0m\u001b[0m\n\u001b[0m",
      "\u001b[0;32m<ipython-input-68-1456461a5bd3>\u001b[0m in \u001b[0;36mtest_new_sum_tuple\u001b[0;34m()\u001b[0m\n\u001b[1;32m      9\u001b[0m \u001b[0;34m\u001b[0m\u001b[0m\n\u001b[1;32m     10\u001b[0m \u001b[0;32mdef\u001b[0m \u001b[0mtest_new_sum_tuple\u001b[0m\u001b[0;34m(\u001b[0m\u001b[0;34m)\u001b[0m\u001b[0;34m:\u001b[0m\u001b[0;34m\u001b[0m\u001b[0;34m\u001b[0m\u001b[0m\n\u001b[0;32m---> 11\u001b[0;31m     \u001b[0;32massert\u001b[0m \u001b[0mnew_sum\u001b[0m\u001b[0;34m(\u001b[0m\u001b[0;34m(\u001b[0m\u001b[0;34m-\u001b[0m\u001b[0;36m1\u001b[0m\u001b[0;34m,\u001b[0m \u001b[0;36m2\u001b[0m\u001b[0;34m,\u001b[0m \u001b[0;36m3\u001b[0m\u001b[0;34m)\u001b[0m\u001b[0;34m)\u001b[0m \u001b[0;34m==\u001b[0m \u001b[0;36m6\u001b[0m\u001b[0;34m\u001b[0m\u001b[0;34m\u001b[0m\u001b[0m\n\u001b[0m\u001b[1;32m     12\u001b[0m \u001b[0;34m\u001b[0m\u001b[0m\n\u001b[1;32m     13\u001b[0m \u001b[0;32mif\u001b[0m \u001b[0m__name__\u001b[0m \u001b[0;34m==\u001b[0m \u001b[0;34m\"__main__\"\u001b[0m\u001b[0;34m:\u001b[0m\u001b[0;34m\u001b[0m\u001b[0;34m\u001b[0m\u001b[0m\n",
      "\u001b[0;31mAssertionError\u001b[0m: "
     ]
    }
   ],
   "source": [
    "def new_sum(iterable):\n",
    "    result = 0\n",
    "    for val in iterable:\n",
    "        result += val\n",
    "    return result\n",
    "\n",
    "def test_new_sum_list():\n",
    "    assert new_sum([1, 2, 3]) == 6\n",
    "    \n",
    "def test_new_sum_tuple():\n",
    "    assert new_sum((-1, 2, 3)) == 6\n",
    "    \n",
    "if __name__ == \"__main__\":\n",
    "    test_new_sum_list()\n",
    "    test_new_sum_tuple()"
   ]
  },
  {
   "cell_type": "code",
   "execution_count": 79,
   "metadata": {},
   "outputs": [],
   "source": [
    "import pandas as pd\n",
    "data = pd.DataFrame([[0, 2, 7, 4, 8],\n",
    "                         [1, 7, 6, 3, 7],\n",
    "                         [1, 1, \"None\", 8, 9],\n",
    "                         [0, 2, 3, \"None\", 6],\n",
    "                         [0, 5, 1, 4, 9]], \n",
    "                        columns = [f\"feature_{i}\" if i!=0 \n",
    "                                  else \"class\" for i in range(5)])"
   ]
  },
  {
   "cell_type": "code",
   "execution_count": 80,
   "metadata": {},
   "outputs": [
    {
     "data": {
      "text/html": [
       "<div>\n",
       "<style scoped>\n",
       "    .dataframe tbody tr th:only-of-type {\n",
       "        vertical-align: middle;\n",
       "    }\n",
       "\n",
       "    .dataframe tbody tr th {\n",
       "        vertical-align: top;\n",
       "    }\n",
       "\n",
       "    .dataframe thead th {\n",
       "        text-align: right;\n",
       "    }\n",
       "</style>\n",
       "<table border=\"1\" class=\"dataframe\">\n",
       "  <thead>\n",
       "    <tr style=\"text-align: right;\">\n",
       "      <th></th>\n",
       "      <th>class</th>\n",
       "      <th>feature_1</th>\n",
       "      <th>feature_2</th>\n",
       "      <th>feature_3</th>\n",
       "      <th>feature_4</th>\n",
       "    </tr>\n",
       "  </thead>\n",
       "  <tbody>\n",
       "    <tr>\n",
       "      <th>0</th>\n",
       "      <td>0</td>\n",
       "      <td>2</td>\n",
       "      <td>7</td>\n",
       "      <td>4</td>\n",
       "      <td>8</td>\n",
       "    </tr>\n",
       "    <tr>\n",
       "      <th>1</th>\n",
       "      <td>1</td>\n",
       "      <td>7</td>\n",
       "      <td>6</td>\n",
       "      <td>3</td>\n",
       "      <td>7</td>\n",
       "    </tr>\n",
       "    <tr>\n",
       "      <th>2</th>\n",
       "      <td>1</td>\n",
       "      <td>1</td>\n",
       "      <td>None</td>\n",
       "      <td>8</td>\n",
       "      <td>9</td>\n",
       "    </tr>\n",
       "    <tr>\n",
       "      <th>3</th>\n",
       "      <td>0</td>\n",
       "      <td>2</td>\n",
       "      <td>3</td>\n",
       "      <td>None</td>\n",
       "      <td>6</td>\n",
       "    </tr>\n",
       "    <tr>\n",
       "      <th>4</th>\n",
       "      <td>0</td>\n",
       "      <td>5</td>\n",
       "      <td>1</td>\n",
       "      <td>4</td>\n",
       "      <td>9</td>\n",
       "    </tr>\n",
       "  </tbody>\n",
       "</table>\n",
       "</div>"
      ],
      "text/plain": [
       "   class  feature_1 feature_2 feature_3  feature_4\n",
       "0      0          2         7         4          8\n",
       "1      1          7         6         3          7\n",
       "2      1          1      None         8          9\n",
       "3      0          2         3      None          6\n",
       "4      0          5         1         4          9"
      ]
     },
     "execution_count": 80,
     "metadata": {},
     "output_type": "execute_result"
    }
   ],
   "source": [
    "data"
   ]
  },
  {
   "cell_type": "code",
   "execution_count": 85,
   "metadata": {},
   "outputs": [
    {
     "data": {
      "text/plain": [
       "{0: 7.666666666666667, 1: 8.0}"
      ]
     },
     "execution_count": 85,
     "metadata": {},
     "output_type": "execute_result"
    }
   ],
   "source": [
    "data.groupby(\"class\")['feature_4'].mean().to_dict()"
   ]
  },
  {
   "cell_type": "code",
   "execution_count": 87,
   "metadata": {},
   "outputs": [
    {
     "name": "stdout",
     "output_type": "stream",
     "text": [
      "Subs of P by None = [[1, 2, 3, 4, 5], [6, 7, 8], [9, 10, 11]]\n",
      "Subs of P1 by x = [[1], [3, 4, 56, 7, 8, 9, 10, 11]]\n",
      "Subs of P1 by None = [[1, 2, 3, 4, 56, 7, 8, 9, 10, 11]]\n"
     ]
    }
   ],
   "source": [
    "def recsplit(L, val, out=[[]]):\n",
    "    if L == []:\n",
    "        return out\n",
    "    elif L[0] == val and out[-1] != [] and L[1:].count(val) != len(L[1:]):\n",
    "        return recsplit(L[1:], val, out + [[]])\n",
    "    elif L[0] != val and L[0] is not None:\n",
    "        return recsplit(L[1:], val, out[:-1] + [out[-1] + [L[0]]])\n",
    "    else:\n",
    "        return recsplit(L[1:], val, out)\n",
    "\n",
    "P = [1,2,3,4,5,None,None,6,7,8,None,9,10,11,None]\n",
    "P1 = [1,2,3,4,56,7,8,9,10,11]  \n",
    "print(\"Subs of P by None =\", recsplit(P,None))\n",
    "print(\"Subs of P1 by x =\", recsplit(P1,2))\n",
    "print(\"Subs of P1 by None =\", recsplit(P1,None))"
   ]
  },
  {
   "cell_type": "code",
   "execution_count": null,
   "metadata": {},
   "outputs": [],
   "source": [
    "def recsplit(L, val):\n",
    "    for i in range(len(val)):\n",
    "        \n",
    "        "
   ]
  },
  {
   "cell_type": "code",
   "execution_count": 96,
   "metadata": {},
   "outputs": [],
   "source": [
    "def nDarray(typeOfitem, dimensions):\n",
    "  depth = 0\n",
    "  if type(dimensions) == int:\n",
    "            dimensions = [dimensions]\n",
    "  return(recursiveAllocator(typeOfitem,dimensions,depth))\n",
    "\n",
    "# recursive internal function\n",
    "def recursiveAllocator(basetype, dimensionList, depth):\n",
    "  \n",
    "  # Base case\n",
    "  if depth == len(dimensionList)-1:\n",
    "    currentDimension = dimensionList[depth]\n",
    "    array = []\n",
    "    for i in range(0,currentDimension):\n",
    "      array.append(basetype())\n",
    "    return array\n",
    "\n",
    "  # Recursive case \n",
    "  else:\n",
    "    array=[]\n",
    "    currentDimension = dimensionList[depth]\n",
    "\n",
    "    # for each element in each dimension recursivly\n",
    "    # call the function\n",
    "    for i in range(0,currentDimension):\n",
    "      array.append(recursiveAllocator(basetype,dimensionList, depth+1))\n",
    "    return array"
   ]
  },
  {
   "cell_type": "code",
   "execution_count": 97,
   "metadata": {},
   "outputs": [],
   "source": [
    "typeOfitem=[1,2,3,5,6,7,8,8,9,9,0,0]\n",
    "dimensions=[2,3,4]"
   ]
  },
  {
   "cell_type": "code",
   "execution_count": 103,
   "metadata": {},
   "outputs": [
    {
     "data": {
      "text/plain": [
       "[range(10, 20),\n",
       " range(20, 30),\n",
       " range(30, 40),\n",
       " range(40, 50),\n",
       " range(50, 60),\n",
       " range(60, 70),\n",
       " range(70, 75)]"
      ]
     },
     "execution_count": 103,
     "metadata": {},
     "output_type": "execute_result"
    }
   ],
   "source": [
    "def chunks(lst, n):\n",
    "    \"\"\"Yield successive n-sized chunks from lst.\"\"\"\n",
    "    for i in range(0, len(lst), n):\n",
    "        lin.append(i)\n",
    "        \n",
    "lst=[1,5,6,48]\n",
    "n=2\n",
    "list(chunks(range(10, 75), 10))\n"
   ]
  },
  {
   "cell_type": "code",
   "execution_count": 119,
   "metadata": {},
   "outputs": [
    {
     "name": "stdout",
     "output_type": "stream",
     "text": [
      "16 3 1\n",
      "[[1, 2, 3, 4, 5], [6, 7, 8, 8, 9], [10, 11, 12, 13, 14], [34, 0, 0, 0, 0]]\n"
     ]
    }
   ],
   "source": [
    "a=[1,2,3,4,5,6,7,8,8,9,10,11,12,13,14,34]\n",
    "n=5\n",
    "k, m = divmod(len(a), n)\n",
    "print(len(a),k,m)\n",
    "if m==0:\n",
    "    print([a[i:i+n] for i in range(0,len(a),n)])\n",
    "else:\n",
    "    for i in range(n-m):\n",
    "        a.append(0)\n",
    "    print([a[i:i+n] for i in range(0,len(a),n)])"
   ]
  },
  {
   "cell_type": "code",
   "execution_count": null,
   "metadata": {},
   "outputs": [],
   "source": [
    "class Stack:\n",
    "    def __init__(self):\n",
    "        self.stack=[]\n",
    "    def append(self,x):\n",
    "        if x not in self.stack:\n",
    "            self.stack.append(x)\n",
    "            return True\n",
    "        else:\n",
    "            return False\n",
    "    def pop(self):\n",
    "        return self.stack[-1]\n",
    "        \n",
    "        "
   ]
  },
  {
   "cell_type": "code",
   "execution_count": 128,
   "metadata": {},
   "outputs": [],
   "source": [
    "class Solution:\n",
    "    def buildArray(self, target, n):\n",
    "        ans = []\n",
    "        move = 0\n",
    "        for i in range(1, n+1):\n",
    "            ans.append(\"Push\")\n",
    "            move += 1\n",
    "            if i not in target:\n",
    "                ans.append(\"Pop\")\n",
    "                move -= 1\n",
    "            if move == len(target):\n",
    "                break\n",
    "        return ans"
   ]
  },
  {
   "cell_type": "code",
   "execution_count": 132,
   "metadata": {},
   "outputs": [
    {
     "name": "stdout",
     "output_type": "stream",
     "text": [
      "['Push', 'Push', 'Pop', 'Push', 'Push', 'Push', 'Push']\n"
     ]
    }
   ],
   "source": [
    "if __name__ == \"__main__\":\n",
    "    s=Solution()\n",
    "    l=s.buildArray([1,3,5,4,6,8],6)\n",
    "    print(l)\n"
   ]
  },
  {
   "cell_type": "code",
   "execution_count": null,
   "metadata": {},
   "outputs": [],
   "source": []
  },
  {
   "cell_type": "code",
   "execution_count": 144,
   "metadata": {},
   "outputs": [
    {
     "name": "stdout",
     "output_type": "stream",
     "text": [
      "420\n"
     ]
    }
   ],
   "source": [
    "print (sum(ord(c) for c in 'Jado&'))"
   ]
  },
  {
   "cell_type": "code",
   "execution_count": 145,
   "metadata": {},
   "outputs": [
    {
     "name": "stdout",
     "output_type": "stream",
     "text": [
      "1,2,3,4\n"
     ]
    },
    {
     "ename": "TypeError",
     "evalue": "slice indices must be integers or None or have an __index__ method",
     "output_type": "error",
     "traceback": [
      "\u001b[0;31m---------------------------------------------------------------------------\u001b[0m",
      "\u001b[0;31mTypeError\u001b[0m                                 Traceback (most recent call last)",
      "\u001b[0;32m<ipython-input-145-cd5afc057ab3>\u001b[0m in \u001b[0;36m<module>\u001b[0;34m\u001b[0m\n\u001b[1;32m     16\u001b[0m \u001b[0;34m\u001b[0m\u001b[0m\n\u001b[1;32m     17\u001b[0m \u001b[0;34m\u001b[0m\u001b[0m\n\u001b[0;32m---> 18\u001b[0;31m \u001b[0mprint\u001b[0m\u001b[0;34m(\u001b[0m\u001b[0mArrayRotation\u001b[0m\u001b[0;34m(\u001b[0m\u001b[0minput\u001b[0m\u001b[0;34m(\u001b[0m\u001b[0;34m)\u001b[0m\u001b[0;34m)\u001b[0m\u001b[0;34m)\u001b[0m\u001b[0;34m\u001b[0m\u001b[0;34m\u001b[0m\u001b[0m\n\u001b[0m",
      "\u001b[0;32m<ipython-input-145-cd5afc057ab3>\u001b[0m in \u001b[0;36mArrayRotation\u001b[0;34m(arr)\u001b[0m\n\u001b[1;32m      2\u001b[0m   \u001b[0mpos\u001b[0m \u001b[0;34m=\u001b[0m \u001b[0marr\u001b[0m\u001b[0;34m[\u001b[0m\u001b[0;36m0\u001b[0m\u001b[0;34m]\u001b[0m\u001b[0;34m\u001b[0m\u001b[0;34m\u001b[0m\u001b[0m\n\u001b[1;32m      3\u001b[0m \u001b[0;34m\u001b[0m\u001b[0m\n\u001b[0;32m----> 4\u001b[0;31m   \u001b[0marr1\u001b[0m \u001b[0;34m=\u001b[0m \u001b[0marr\u001b[0m\u001b[0;34m[\u001b[0m\u001b[0;34m:\u001b[0m\u001b[0mpos\u001b[0m\u001b[0;34m]\u001b[0m\u001b[0;34m\u001b[0m\u001b[0;34m\u001b[0m\u001b[0m\n\u001b[0m\u001b[1;32m      5\u001b[0m   \u001b[0marr2\u001b[0m \u001b[0;34m=\u001b[0m \u001b[0marr\u001b[0m\u001b[0;34m[\u001b[0m\u001b[0mpos\u001b[0m\u001b[0;34m:\u001b[0m\u001b[0;34m]\u001b[0m\u001b[0;34m\u001b[0m\u001b[0;34m\u001b[0m\u001b[0m\n\u001b[1;32m      6\u001b[0m \u001b[0;34m\u001b[0m\u001b[0m\n",
      "\u001b[0;31mTypeError\u001b[0m: slice indices must be integers or None or have an __index__ method"
     ]
    }
   ],
   "source": [
    "def ArrayRotation(arr):\n",
    "  pos = arr[0]\n",
    "\n",
    "  arr1 = arr[:pos]\n",
    "  arr2 = arr[pos:]\n",
    "\n",
    "  str_arr = ''\n",
    "\n",
    "  for i in arr2:\n",
    "    str_arr += str(i)\n",
    "\n",
    "  for i in arr1:\n",
    "    str_arr += str(i)\n",
    "\n",
    "  return str_arr\n",
    "\n",
    "\n",
    "print(ArrayRotation(input()))\n"
   ]
  },
  {
   "cell_type": "code",
   "execution_count": null,
   "metadata": {},
   "outputs": [],
   "source": [
    "ArrayRotation([3,4,5,76])"
   ]
  },
  {
   "cell_type": "code",
   "execution_count": 146,
   "metadata": {},
   "outputs": [
    {
     "name": "stdout",
     "output_type": "stream",
     "text": [
      "dcdsdv\n"
     ]
    },
    {
     "ename": "ValueError",
     "evalue": "invalid literal for int() with base 10: 'dcdsdv'",
     "output_type": "error",
     "traceback": [
      "\u001b[0;31m---------------------------------------------------------------------------\u001b[0m",
      "\u001b[0;31mValueError\u001b[0m                                Traceback (most recent call last)",
      "\u001b[0;32m<ipython-input-146-5fc4e75b0ba0>\u001b[0m in \u001b[0;36m<module>\u001b[0;34m\u001b[0m\n\u001b[1;32m      1\u001b[0m \u001b[0;32mif\u001b[0m \u001b[0m__name__\u001b[0m \u001b[0;34m==\u001b[0m \u001b[0;34m'__main__'\u001b[0m\u001b[0;34m:\u001b[0m\u001b[0;34m\u001b[0m\u001b[0;34m\u001b[0m\u001b[0m\n\u001b[0;32m----> 2\u001b[0;31m     \u001b[0mT\u001b[0m \u001b[0;34m=\u001b[0m \u001b[0mint\u001b[0m\u001b[0;34m(\u001b[0m\u001b[0minput\u001b[0m\u001b[0;34m(\u001b[0m\u001b[0;34m)\u001b[0m\u001b[0;34m)\u001b[0m\u001b[0;34m\u001b[0m\u001b[0;34m\u001b[0m\u001b[0m\n\u001b[0m\u001b[1;32m      3\u001b[0m     \u001b[0;32mfor\u001b[0m \u001b[0m_\u001b[0m \u001b[0;32min\u001b[0m \u001b[0mrange\u001b[0m\u001b[0;34m(\u001b[0m\u001b[0mT\u001b[0m\u001b[0;34m)\u001b[0m\u001b[0;34m:\u001b[0m\u001b[0;34m\u001b[0m\u001b[0;34m\u001b[0m\u001b[0m\n\u001b[1;32m      4\u001b[0m         \u001b[0ms\u001b[0m \u001b[0;34m=\u001b[0m \u001b[0minput\u001b[0m\u001b[0;34m(\u001b[0m\u001b[0;34m)\u001b[0m\u001b[0;34m\u001b[0m\u001b[0;34m\u001b[0m\u001b[0m\n\u001b[1;32m      5\u001b[0m         \u001b[0mv\u001b[0m \u001b[0;34m=\u001b[0m \u001b[0;34m[\u001b[0m\u001b[0;34m'a'\u001b[0m\u001b[0;34m,\u001b[0m\u001b[0;34m'e'\u001b[0m\u001b[0;34m,\u001b[0m\u001b[0;34m'i'\u001b[0m\u001b[0;34m,\u001b[0m\u001b[0;34m'o'\u001b[0m\u001b[0;34m,\u001b[0m\u001b[0;34m'u'\u001b[0m\u001b[0;34m,\u001b[0m\u001b[0;34m'A'\u001b[0m\u001b[0;34m,\u001b[0m\u001b[0;34m'E'\u001b[0m\u001b[0;34m,\u001b[0m\u001b[0;34m'I'\u001b[0m\u001b[0;34m,\u001b[0m\u001b[0;34m'O'\u001b[0m\u001b[0;34m,\u001b[0m\u001b[0;34m'U'\u001b[0m\u001b[0;34m]\u001b[0m\u001b[0;34m\u001b[0m\u001b[0;34m\u001b[0m\u001b[0m\n",
      "\u001b[0;31mValueError\u001b[0m: invalid literal for int() with base 10: 'dcdsdv'"
     ]
    }
   ],
   "source": [
    "if __name__ == '__main__':\n",
    "    T = int(input())\n",
    "    for _ in range(T):\n",
    "        s = input()\n",
    "        v = ['a','e','i','o','u','A','E','I','O','U']\n",
    "        c = 0\n",
    "        for i in s:\n",
    "            if i in v:\n",
    "                c += 1\n",
    "        print(c)"
   ]
  },
  {
   "cell_type": "code",
   "execution_count": 149,
   "metadata": {},
   "outputs": [
    {
     "name": "stdout",
     "output_type": "stream",
     "text": [
      "fvfwer\n",
      "1\n"
     ]
    }
   ],
   "source": [
    "vowels=['a','e','i','o','u']\n",
    "data=input()\n",
    "count=0\n",
    "for i in data:\n",
    "    for j in vowels:\n",
    "        if i.lower()==j:\n",
    "            count=-count+1\n",
    "print(count)\n",
    "        "
   ]
  },
  {
   "cell_type": "code",
   "execution_count": 159,
   "metadata": {},
   "outputs": [
    {
     "name": "stdout",
     "output_type": "stream",
     "text": [
      "madhavi namballa \n"
     ]
    }
   ],
   "source": [
    "def toLowerCase(value):\n",
    "        upper = \"ABCDEFGHIJKLMNOPQRSTUVWXYZ\"\n",
    "        lower = \"abcdefghijklmnopqrstuvwxyz\"\n",
    "        h = dict(zip(upper, lower))\n",
    "        \n",
    "        return ''.join([h[x] if x in h else x for x in value])\n",
    "value=\"MADHAVI NAMBALLA \"\n",
    "print(toLowerCase(value))\n"
   ]
  },
  {
   "cell_type": "code",
   "execution_count": null,
   "metadata": {},
   "outputs": [],
   "source": [
    "def LetterChanges(strParam):\n",
    "\n",
    "  # code goes here\n",
    "  new_str=\"\"\n",
    "  vowels=['a','e','i','o','u']\n",
    "  for i in strParam:\n",
    "    if i.isalpha():\n",
    "      temp=ord(i)+1\n",
    "      temp=chr(temp)\n",
    "      if temp in vowels:\n",
    "        new_str+=temp.upper()\n",
    "      else:\n",
    "        new_str+=temp\n",
    "    else:\n",
    "      new_str+=i\n",
    "\n",
    "  return new_str\n",
    "\n",
    "# keep this function call here \n",
    "print(LetterChanges(input()))"
   ]
  },
  {
   "cell_type": "code",
   "execution_count": 161,
   "metadata": {},
   "outputs": [
    {
     "name": "stdout",
     "output_type": "stream",
     "text": [
      "MADHAVI NAMBALLA\n"
     ]
    }
   ],
   "source": [
    "value=\"madhavi namballa\"\n",
    "lower='abcdefghijklmnopqrstuvwxyz'\n",
    "upper='ABCDEFGHIJKLMNOPQRSTUVWXYZ'\n",
    "h=dict(zip(lower,upper))\n",
    "out=''.join([h[x] if x in h else x for x in value])\n",
    "print(out)"
   ]
  },
  {
   "cell_type": "code",
   "execution_count": 165,
   "metadata": {},
   "outputs": [
    {
     "name": "stdout",
     "output_type": "stream",
     "text": [
      "nbEIwjObncbmmb\n"
     ]
    }
   ],
   "source": [
    "def LetterChange(value):\n",
    "    vowels=['a','e','i','o','u']\n",
    "    new_str=\"\"\n",
    "    for i in value:\n",
    "        if i.isalpha():\n",
    "            temp=ord(i)+1\n",
    "            temp=chr(temp)\n",
    "            if temp in vowels:\n",
    "                new_str=new_str+temp.upper()\n",
    "            else:\n",
    "                new_str=new_str+temp\n",
    "    return new_str\n",
    "value=\"madhvi namballa\"\n",
    "print(LetterChange(value))"
   ]
  },
  {
   "cell_type": "code",
   "execution_count": null,
   "metadata": {},
   "outputs": [],
   "source": [
    "punctuation='!?,.:;\"\\')(_-&'\n",
    "def retrive_punc(sen):\n",
    "  newstr=''\n",
    "  for i in sen:\n",
    "    if i not in punctuation:\n",
    "      newstr+=i\n",
    "  return newstr\n",
    "\n",
    "\n",
    "def LongestWord(sen):\n",
    "    word=sen.split(\" \")\n",
    "    new_str=\"\"\n",
    "    for i in word:\n",
    "      if len(i)>len(new_str):\n",
    "        new_str=i\n",
    "\n",
    "\n",
    "  # code goes here\n",
    "    return new_str\n",
    "\n",
    "# keep this function call here \n",
    "print(LongestWord(retrive_punc(input())))"
   ]
  },
  {
   "cell_type": "code",
   "execution_count": 166,
   "metadata": {},
   "outputs": [
    {
     "name": "stdout",
     "output_type": "stream",
     "text": [
      "hsrfhwiurfwrkdrugh\n"
     ]
    }
   ],
   "source": [
    "punctuation='?!,.:\"\\')(_-&'\n",
    "def pun(sen):\n",
    "    new_str=\"\"\n",
    "    for i in sen:\n",
    "        if i not in punctuation:\n",
    "            new_str+=i\n",
    "    return new_str\n",
    "print(pun(\"hsrfhwiurfwr&kdrugh:\"))"
   ]
  },
  {
   "cell_type": "code",
   "execution_count": 170,
   "metadata": {},
   "outputs": [
    {
     "name": "stdout",
     "output_type": "stream",
     "text": [
      "madhavia\n"
     ]
    }
   ],
   "source": [
    "def longestword(sen):\n",
    "    new_word=''\n",
    "    words=sen.split(\" \")\n",
    "    for word in words:\n",
    "        if len(word)>len(new_word) and word==new_word:\n",
    "            new_word=word\n",
    "        elif len(word)>len(new_word):\n",
    "            new_word=word\n",
    "    return new_word\n",
    "print(longestword(\"madhavia namballa is ver great \"))        "
   ]
  },
  {
   "cell_type": "code",
   "execution_count": null,
   "metadata": {},
   "outputs": [],
   "source": [
    "def SecondGreatLow(arr):\n",
    "  arr.sort()\n",
    "  modified_arr=[]\n",
    "  for number in arr:\n",
    "    if number not in modified_arr:\n",
    "      modified_arr.append(number)\n",
    "  if len(modified_arr)>2:\n",
    "     return \"{} {}\".format(modified_arr[1], modified_arr[-2])\n",
    "  elif len(modified_arr)==2:\n",
    "     return \"{} {}\".format(modified_arr[1], modified_arr[0])\n",
    "  elif len(modified_arr)==1:\n",
    "     return \"{} {}\".format(modified_arr[0], modified_arr[0])\n",
    "\n",
    "# keep this function call here \n",
    "print(SecondGreatLow(input()))"
   ]
  },
  {
   "cell_type": "code",
   "execution_count": 172,
   "metadata": {},
   "outputs": [
    {
     "name": "stdout",
     "output_type": "stream",
     "text": [
      "12\n"
     ]
    }
   ],
   "source": [
    "print(121//10)"
   ]
  },
  {
   "cell_type": "code",
   "execution_count": 173,
   "metadata": {},
   "outputs": [
    {
     "name": "stdout",
     "output_type": "stream",
     "text": [
      "(12, 1)\n"
     ]
    }
   ],
   "source": [
    "print(divmod(121,10))"
   ]
  },
  {
   "cell_type": "code",
   "execution_count": null,
   "metadata": {},
   "outputs": [],
   "source": [
    "coeffient,rem=divmod(121,10)"
   ]
  },
  {
   "cell_type": "code",
   "execution_count": 193,
   "metadata": {},
   "outputs": [
    {
     "name": "stdout",
     "output_type": "stream",
     "text": [
      "False\n"
     ]
    }
   ],
   "source": [
    "def palindrome_check(number):\n",
    "    reverse=0\n",
    "    original=number\n",
    "    while number>0:\n",
    "        rem=number%10\n",
    "        reverse=reverse*10+rem\n",
    "        number=number//10\n",
    "    if reverse==original:\n",
    "        return True\n",
    "    else:\n",
    "        return False\n",
    "print(palindrome_check(-121))"
   ]
  },
  {
   "cell_type": "code",
   "execution_count": 184,
   "metadata": {},
   "outputs": [
    {
     "name": "stdout",
     "output_type": "stream",
     "text": [
      "True\n"
     ]
    }
   ],
   "source": [
    "def palindrome_check(number):\n",
    "    original=number\n",
    "    reverse=0\n",
    "    while(number>0):\n",
    "        rem=number%10\n",
    "        reverse=reverse*10+rem\n",
    "        number=number//10\n",
    "    if original==reverse:\n",
    "        return True\n",
    "    else:\n",
    "        return False\n",
    "print(palindrome_check(535))"
   ]
  },
  {
   "cell_type": "code",
   "execution_count": 189,
   "metadata": {},
   "outputs": [],
   "source": [
    "def isPalindrome(s):\n",
    "        s=s.lower()\n",
    "        rev_str=s[::-1]\n",
    "        if s==rev_str:\n",
    "            return True\n",
    "        else:\n",
    "            return False\n"
   ]
  },
  {
   "cell_type": "code",
   "execution_count": 192,
   "metadata": {},
   "outputs": [
    {
     "name": "stdout",
     "output_type": "stream",
     "text": [
      "True\n"
     ]
    }
   ],
   "source": [
    "print(isPalindrome('lil'))"
   ]
  },
  {
   "cell_type": "code",
   "execution_count": 240,
   "metadata": {},
   "outputs": [],
   "source": [
    "from collections import Counter\n",
    "def longestPalindrome(s):\n",
    "    ans = 0\n",
    "    sem=dict(Counter(s))\n",
    "    for v in sem.values():\n",
    "#         print(v)\n",
    "        ans += v / 2 * 2\n",
    "        if ans % 2 == 0 and v % 2 == 1:\n",
    "            ans += 1\n",
    "    return ans\n",
    "        \n",
    "\n",
    "#     for v in sem.items():\n",
    "#         ans += v / 2 * 2\n",
    "#         if ans % 2 == 0 and v % 2 == 1:\n",
    "#             ans += 1\n",
    "#     return ans"
   ]
  },
  {
   "cell_type": "code",
   "execution_count": 241,
   "metadata": {},
   "outputs": [
    {
     "name": "stdout",
     "output_type": "stream",
     "text": [
      "9.0\n"
     ]
    }
   ],
   "source": [
    "s = \"abccccdd\"\n",
    "print(longestPalindrome(s))\n",
    "#s=\"bb\""
   ]
  },
  {
   "cell_type": "code",
   "execution_count": 216,
   "metadata": {},
   "outputs": [
    {
     "name": "stdout",
     "output_type": "stream",
     "text": [
      "dict_items([('a', 1), ('b', 1), ('c', 4), ('d', 2)])\n",
      "Counter({'c': 4, 'd': 2, 'a': 1, 'b': 1})\n",
      "<class 'tuple'>\n",
      "<class 'tuple'>\n",
      "<class 'tuple'>\n",
      "<class 'tuple'>\n"
     ]
    }
   ],
   "source": [
    "from collections import Counter\n",
    "s=\"abccccdd\"\n",
    "sem=Counter(s)\n",
    "print(sem.items())\n",
    "print(sem)\n",
    "for i in sem.items():\n",
    "    print(type(i))"
   ]
  },
  {
   "cell_type": "code",
   "execution_count": 242,
   "metadata": {},
   "outputs": [
    {
     "ename": "IndexError",
     "evalue": "string index out of range",
     "output_type": "error",
     "traceback": [
      "\u001b[0;31m---------------------------------------------------------------------------\u001b[0m",
      "\u001b[0;31mIndexError\u001b[0m                                Traceback (most recent call last)",
      "\u001b[0;32m<ipython-input-242-ef3c31d1ca14>\u001b[0m in \u001b[0;36m<module>\u001b[0;34m\u001b[0m\n\u001b[1;32m      1\u001b[0m \u001b[0ml\u001b[0m\u001b[0;34m=\u001b[0m\u001b[0;34m'123'\u001b[0m\u001b[0;34m\u001b[0m\u001b[0;34m\u001b[0m\u001b[0m\n\u001b[1;32m      2\u001b[0m \u001b[0mp\u001b[0m\u001b[0;34m=\u001b[0m\u001b[0mlen\u001b[0m\u001b[0;34m(\u001b[0m\u001b[0ms\u001b[0m\u001b[0;34m)\u001b[0m\u001b[0;34m-\u001b[0m\u001b[0;36m1\u001b[0m\u001b[0;34m\u001b[0m\u001b[0;34m\u001b[0m\u001b[0m\n\u001b[0;32m----> 3\u001b[0;31m \u001b[0mprint\u001b[0m\u001b[0;34m(\u001b[0m\u001b[0mord\u001b[0m\u001b[0;34m(\u001b[0m\u001b[0ml\u001b[0m\u001b[0;34m[\u001b[0m\u001b[0mp\u001b[0m\u001b[0;34m]\u001b[0m\u001b[0;34m)\u001b[0m\u001b[0;34m)\u001b[0m\u001b[0;34m\u001b[0m\u001b[0;34m\u001b[0m\u001b[0m\n\u001b[0m",
      "\u001b[0;31mIndexError\u001b[0m: string index out of range"
     ]
    }
   ],
   "source": [
    "l='123'\n",
    "p=len(s)-1\n",
    "print(ord(l[p]))"
   ]
  },
  {
   "cell_type": "code",
   "execution_count": 244,
   "metadata": {},
   "outputs": [
    {
     "name": "stdout",
     "output_type": "stream",
     "text": [
      "51\n"
     ]
    }
   ],
   "source": [
    "num1='123'\n",
    "p1 = len(num1) - 1\n",
    "x1 = ord(num1[p1])\n",
    "print(x1)"
   ]
  },
  {
   "cell_type": "code",
   "execution_count": 246,
   "metadata": {},
   "outputs": [
    {
     "name": "stdout",
     "output_type": "stream",
     "text": [
      "48\n"
     ]
    }
   ],
   "source": [
    "print(ord('0'))"
   ]
  },
  {
   "cell_type": "code",
   "execution_count": 248,
   "metadata": {},
   "outputs": [
    {
     "name": "stdout",
     "output_type": "stream",
     "text": [
      "Given array is\n",
      "1 2 3 4 5 \n",
      "Rotated array is\n",
      "3 1 2 4 5 "
     ]
    }
   ],
   "source": [
    "def rotate(arr, n): \n",
    "    x = arr[n - 1] \n",
    "      \n",
    "    for i in range(n - 1, 0, -1): \n",
    "        arr[i] = arr[i - 1]; \n",
    "          \n",
    "    arr[0] = x; \n",
    "  \n",
    "  \n",
    "# Driver function \n",
    "arr= [1, 2, 3, 4, 5] \n",
    "n = len(arr) \n",
    "print (\"Given array is\") \n",
    "for i in range(0, n): \n",
    "    print (arr[i], end = ' ') \n",
    "  \n",
    "rotate(arr, 3) \n",
    "  \n",
    "print (\"\\nRotated array is\") \n",
    "for i in range(0, n): \n",
    "    print (arr[i], end = ' ') \n",
    "  \n",
    "# This article is contributed  \n",
    "# by saloni1297 "
   ]
  },
  {
   "cell_type": "code",
   "execution_count": 252,
   "metadata": {},
   "outputs": [
    {
     "name": "stdout",
     "output_type": "stream",
     "text": [
      "['m', 'a', 'd', 'h', 'a', 'v', 'i']\n",
      "['1', '2', '3', '4', '5', '6']\n"
     ]
    }
   ],
   "source": [
    "s=\"m1a2d3h4a5v6i\"\n",
    "alpha = [c for c in s if c.isalpha()] # stack of alphabets\n",
    "print(alpha)\n",
    "digit = [c for c in s if c.isdigit()] # stack of digits\n",
    "print(digit)\n",
    "        \n",
    "if abs(len(alpha) - len(digit)) > 1:\n",
    "    print(\"not possible\")# impossible\n",
    "if len(alpha) < len(digit): \n",
    "    alpha, digit = digit, alpha # alpha >= digit \n",
    "        return \"\".join(a+d for a, d in zip_longest(alpha, digit, fillvalue=\"\"))"
   ]
  },
  {
   "cell_type": "code",
   "execution_count": 263,
   "metadata": {
    "scrolled": true
   },
   "outputs": [
    {
     "name": "stdout",
     "output_type": "stream",
     "text": [
      "{'m': '1', 'a': '5', 'd': '3', 'h': '4', 'v': '6', 'i': ''}\n"
     ]
    }
   ],
   "source": [
    "from itertools import zip_longest \n",
    "alpha = [c for c in s if c.isalpha()] # stack of alphabets\n",
    "digit = [c for c in s if c.isdigit()] # stack of digits\n",
    "print(dict(zip_longest(alpha, digit, fillvalue=\"\")))"
   ]
  },
  {
   "cell_type": "code",
   "execution_count": null,
   "metadata": {},
   "outputs": [],
   "source": []
  },
  {
   "cell_type": "code",
   "execution_count": 303,
   "metadata": {},
   "outputs": [
    {
     "name": "stdout",
     "output_type": "stream",
     "text": [
      "2\n",
      "4\n",
      "2\n"
     ]
    }
   ],
   "source": [
    "st=\"10b1c2\"\n",
    "alpha=[c for c in st if c.isalpha()]\n",
    "digit=[c for c in st if c.isdigit()]\n",
    "print(len(alpha))\n",
    "print(len(digit))\n",
    "sample=dict(zip_longest(alpha,digit,fillvalue=\"\"))\n",
    "print(abs(len(alpha) - len(digit)))"
   ]
  },
  {
   "cell_type": "code",
   "execution_count": 270,
   "metadata": {},
   "outputs": [
    {
     "name": "stdout",
     "output_type": "stream",
     "text": [
      "{'a': 'A', 'b': 'B', 'c': 'C', 'd': 'D', 'e': 'E', 'f': 'F', 'g': 'G', 'h': 'H', 'i': 'I', 'j': 'J', 'k': 'K', 'l': 'L', 'm': 'M', 'n': 'N', 'o': 'O', 'p': 'P', 'q': 'Q', 'r': 'R', 's': 'S', 't': 'T', 'u': 'U', 'v': 'V', 'w': 'W'}\n"
     ]
    }
   ],
   "source": [
    "upper='ABCDEFGHIJKLMNOPQRSTUVW'\n",
    "lower='abcdefghijklmnopqrstuvwxyz'\n",
    "print(dict(zip(lower,upper)))"
   ]
  },
  {
   "cell_type": "code",
   "execution_count": 311,
   "metadata": {},
   "outputs": [],
   "source": [
    "def reformat(s):\n",
    "        alpha = [c for c in s if c.isalpha()] # stack of alphabets\n",
    "        digit = [c for c in s if c.isdigit()] # stack of digits\n",
    "        \n",
    "        if abs(len(alpha) - len(digit)) > 1: \n",
    "            return \"7iut\" # impossible\n",
    "        \n",
    "        if len(alpha) < len(digit): \n",
    "            alpha, digit = digit, alpha # alpha >= digit \n",
    "        return \"\".join(a+d for a, d in zip_longest(alpha, digit, fillvalue=\"\"))"
   ]
  },
  {
   "cell_type": "code",
   "execution_count": 313,
   "metadata": {},
   "outputs": [
    {
     "name": "stdout",
     "output_type": "stream",
     "text": [
      "c2o0v1i9d\n"
     ]
    }
   ],
   "source": [
    "st=\"covid2019\"\n",
    "print(reformat(st))"
   ]
  },
  {
   "cell_type": "code",
   "execution_count": 317,
   "metadata": {},
   "outputs": [],
   "source": [
    "a={\n",
    "    \"brand\":\"Ford\",\n",
    "    \"model\":\"Mustang\",\n",
    "    \"year\":1994\n",
    "}"
   ]
  },
  {
   "cell_type": "code",
   "execution_count": 326,
   "metadata": {},
   "outputs": [
    {
     "name": "stdout",
     "output_type": "stream",
     "text": [
      "brand Ford\n",
      "model Mustang\n",
      "year 1994\n"
     ]
    }
   ],
   "source": [
    "for x,y in a.items():\n",
    "    print(x,y)"
   ]
  },
  {
   "cell_type": "code",
   "execution_count": 337,
   "metadata": {},
   "outputs": [
    {
     "name": "stdout",
     "output_type": "stream",
     "text": [
      "{11: 0}\n",
      "{11: 0, 7: 1}\n",
      "{11: 2, 7: 1}\n",
      "[1, 3]\n"
     ]
    }
   ],
   "source": [
    "nums = [11,7,11,2]\n",
    "target = 9\n",
    "h={}\n",
    "for i, num in enumerate(nums):\n",
    "#     print(i,num)\n",
    "    n = target - num\n",
    "    if n not in h:\n",
    "        h[num]=i\n",
    "        print(h)\n",
    "    else:\n",
    "        print ([h[n],i])\n",
    "        \n",
    "#     print(n)"
   ]
  },
  {
   "cell_type": "code",
   "execution_count": null,
   "metadata": {},
   "outputs": [],
   "source": []
  },
  {
   "cell_type": "code",
   "execution_count": 344,
   "metadata": {},
   "outputs": [
    {
     "name": "stdout",
     "output_type": "stream",
     "text": [
      "{'apples': 20, 'mangoes': 2, 'bananas': 3, 'grapes': 100, 'pineapples': 1}\n"
     ]
    }
   ],
   "source": [
    "import yaml\n",
    "\n",
    "with open(r'fruits.yaml') as file:\n",
    "    # The FullLoader parameter handles the conversion from YAML\n",
    "    # scalar values to Python the dictionary format\n",
    "    fruits_list = yaml.load(file, Loader=yaml.FullLoader)\n",
    "    \n",
    "\n",
    "    print(fruits_list)"
   ]
  },
  {
   "cell_type": "code",
   "execution_count": 345,
   "metadata": {},
   "outputs": [],
   "source": [
    "with open(r'categories.yaml') as file:\n",
    "    documents = yaml.full_load(file)\n"
   ]
  },
  {
   "cell_type": "code",
   "execution_count": 346,
   "metadata": {},
   "outputs": [
    {
     "name": "stdout",
     "output_type": "stream",
     "text": [
      "sports : ['soccer', 'football', 'basketball', 'cricket', 'hockey', 'table tennis']\n",
      "countries : ['Pakistan', 'USA', 'India', 'China', 'Germany', 'France', 'Spain']\n"
     ]
    }
   ],
   "source": [
    "for item,doc in documents.items():\n",
    "    print(item, \":\", doc)"
   ]
  },
  {
   "cell_type": "code",
   "execution_count": 349,
   "metadata": {},
   "outputs": [],
   "source": [
    "dict_file = [{'sports' : ['soccer', 'football', 'basketball', 'cricket', 'hockey', 'table tennis']},\n",
    "{'countries' : ['Pakistan', 'USA', 'India', 'China', 'Germany', 'France', 'Spain']}]\n",
    "\n",
    "with open(r'store_file.yaml', 'w') as file:\n",
    "    documents = yaml.dump(dict_file, file)"
   ]
  },
  {
   "cell_type": "code",
   "execution_count": 350,
   "metadata": {},
   "outputs": [
    {
     "ename": "NameError",
     "evalue": "name 'store_file' is not defined",
     "output_type": "error",
     "traceback": [
      "\u001b[0;31m---------------------------------------------------------------------------\u001b[0m",
      "\u001b[0;31mNameError\u001b[0m                                 Traceback (most recent call last)",
      "\u001b[0;32m<ipython-input-350-64d130168238>\u001b[0m in \u001b[0;36m<module>\u001b[0;34m\u001b[0m\n\u001b[1;32m      1\u001b[0m \u001b[0;32mwith\u001b[0m \u001b[0mopen\u001b[0m\u001b[0;34m(\u001b[0m\u001b[0;34mr'store_file.yaml'\u001b[0m\u001b[0;34m,\u001b[0m \u001b[0;34m'w'\u001b[0m\u001b[0;34m)\u001b[0m \u001b[0;32mas\u001b[0m \u001b[0mfile\u001b[0m\u001b[0;34m:\u001b[0m\u001b[0;34m\u001b[0m\u001b[0;34m\u001b[0m\u001b[0m\n\u001b[0;32m----> 2\u001b[0;31m     \u001b[0mdocuments\u001b[0m \u001b[0;34m=\u001b[0m \u001b[0myaml\u001b[0m\u001b[0;34m.\u001b[0m\u001b[0mload\u001b[0m\u001b[0;34m(\u001b[0m\u001b[0mstore_file\u001b[0m\u001b[0;34m,\u001b[0m \u001b[0mfile\u001b[0m\u001b[0;34m)\u001b[0m\u001b[0;34m\u001b[0m\u001b[0;34m\u001b[0m\u001b[0m\n\u001b[0m\u001b[1;32m      3\u001b[0m     \u001b[0mprint\u001b[0m\u001b[0;34m(\u001b[0m\u001b[0mdocuments\u001b[0m\u001b[0;34m)\u001b[0m\u001b[0;34m\u001b[0m\u001b[0;34m\u001b[0m\u001b[0m\n",
      "\u001b[0;31mNameError\u001b[0m: name 'store_file' is not defined"
     ]
    }
   ],
   "source": [
    "with open(r'store_file.yaml', 'w') as file:\n",
    "    documents = yaml.load(store_file, file)\n",
    "    print(documents)"
   ]
  },
  {
   "cell_type": "code",
   "execution_count": null,
   "metadata": {},
   "outputs": [],
   "source": [
    "Job Description :-\n",
    "•             5 – 8+ years professional experience.\n",
    "•             Experience building and managing microservice architecture based application using Python (Python3 preferred).\n",
    "•             Experience with python packages like numpy, pandas, flask, pyspark, pymongo, os, logging, re, pyyaml.\n",
    "•             Experience with swagger io module to expose API\n",
    "•             Experience in any of: OpenShift, Kubernetes, NGINX, or Docker a plus.\n",
    "•             Strong RDBMS and Unix understanding with SQL and BASH shell scripting knowledge.\n",
    "•             Experience with Big Data products like Hadoop, Hive will be a plus\n",
    " \n",
    "Competencies:\n",
    "         \n",
    "•             Independent contributor.\n",
    "•             Self-Driven and result oriented.\n",
    "•             Verbal and Written communication skills - primarily the ability to communicate ideas, standards and technical details to the development partners.\n",
    "•             Ability to work effectively within cross functional teams.\n",
    "•             Strong understanding of technology concepts and best practices."
   ]
  },
  {
   "cell_type": "code",
   "execution_count": null,
   "metadata": {},
   "outputs": [],
   "source": []
  },
  {
   "cell_type": "code",
   "execution_count": null,
   "metadata": {},
   "outputs": [],
   "source": []
  },
  {
   "cell_type": "code",
   "execution_count": null,
   "metadata": {},
   "outputs": [],
   "source": []
  },
  {
   "cell_type": "code",
   "execution_count": 355,
   "metadata": {},
   "outputs": [
    {
     "name": "stdout",
     "output_type": "stream",
     "text": [
      "[[[0.81468145 0.37517593 0.50456283]\n",
      "  [0.69463295 0.48124015 0.36945437]\n",
      "  [0.13646352 0.44760012 0.44313328]]\n",
      "\n",
      " [[0.07739667 0.08836558 0.03966288]\n",
      "  [0.42655978 0.24402248 0.37042451]\n",
      "  [0.3158586  0.90819089 0.49439457]]\n",
      "\n",
      " [[0.84866459 0.9284673  0.01227487]\n",
      "  [0.89057536 0.99190277 0.8695499 ]\n",
      "  [0.04518396 0.07873806 0.24564836]]]\n",
      "Maximum value of the array is 0.991902770544191\n",
      "Minimum value of the array is 0.012274866099942439\n"
     ]
    }
   ],
   "source": [
    "import numpy as np\n",
    "x = np.random.random((3,3,3))\n",
    "print(x)\n",
    "max_value = np.max(x)\n",
    "min_value = np.min(x)\n",
    "print('Maximum value of the array is',max_value)\n",
    "print('Minimum value of the array is',min_value)"
   ]
  },
  {
   "cell_type": "code",
   "execution_count": 356,
   "metadata": {},
   "outputs": [
    {
     "name": "stdout",
     "output_type": "stream",
     "text": [
      "Original array: \n",
      "[[0.04401333 0.1278477  0.21889103 0.2756473 ]\n",
      " [0.26273021 0.88747458 0.25400447 0.14257475]\n",
      " [0.5157038  0.54082752 0.27046972 0.00106136]\n",
      " [0.94987131 0.49931738 0.22073419 0.14876764]\n",
      " [0.96105102 0.53179543 0.75797325 0.37238553]\n",
      " [0.37327006 0.98997703 0.16076955 0.99259885]\n",
      " [0.50532729 0.54556727 0.22667865 0.35690387]\n",
      " [0.15559189 0.86231399 0.23432696 0.48430405]\n",
      " [0.42285281 0.04273016 0.17011897 0.77312481]\n",
      " [0.51524748 0.94087598 0.91206426 0.83397634]]\n",
      "First 5 rows of the above array:\n",
      "[[0.04401333 0.1278477  0.21889103 0.2756473 ]\n",
      " [0.26273021 0.88747458 0.25400447 0.14257475]\n",
      " [0.5157038  0.54082752 0.27046972 0.00106136]\n",
      " [0.94987131 0.49931738 0.22073419 0.14876764]\n",
      " [0.96105102 0.53179543 0.75797325 0.37238553]]\n"
     ]
    }
   ],
   "source": [
    "import numpy as np\n",
    "x = np.random.rand(10, 4)\n",
    "print(\"Original array: \")\n",
    "print(x)\n",
    "y= x[:5, :]\n",
    "print(\"First 5 rows of the above array:\")\n",
    "print(y)"
   ]
  },
  {
   "cell_type": "code",
   "execution_count": null,
   "metadata": {},
   "outputs": [],
   "source": []
  }
 ],
 "metadata": {
  "kernelspec": {
   "display_name": "Python 3",
   "language": "python",
   "name": "python3"
  },
  "language_info": {
   "codemirror_mode": {
    "name": "ipython",
    "version": 3
   },
   "file_extension": ".py",
   "mimetype": "text/x-python",
   "name": "python",
   "nbconvert_exporter": "python",
   "pygments_lexer": "ipython3",
   "version": "3.8.3"
  }
 },
 "nbformat": 4,
 "nbformat_minor": 4
}
