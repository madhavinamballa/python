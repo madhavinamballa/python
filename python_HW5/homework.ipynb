{
 "cells": [
  {
   "cell_type": "code",
   "execution_count": 30,
   "metadata": {},
   "outputs": [
    {
     "name": "stdout",
     "output_type": "stream",
     "text": [
      "Enter the file name: mbox-short.txt\n",
      "4 3\n",
      "6 1\n",
      "7 1\n",
      "9 2\n",
      "10 3\n",
      "11 6\n",
      "14 1\n",
      "15 2\n",
      "16 4\n",
      "17 2\n",
      "18 1\n",
      "19 1\n"
     ]
    }
   ],
   "source": [
    "from collections import Counter\n",
    "fname=input(\"Enter the file name: \")\n",
    "count=0\n",
    "my_list=[]\n",
    "fhand=open(fname)\n",
    "for line in fhand:\n",
    "#         line=line.strip()\n",
    "    if not line.startswith('From'):\n",
    "        continue\n",
    "#     count=count+1\n",
    "    words=line.split()\n",
    "    if len(words)==7:\n",
    "#         print(words)\n",
    "        my_list.append(int(words[-2].split(\":\")[0]))\n",
    " \n",
    "my_list=dict(Counter(my_list))\n",
    "sorted(my_list.keys())\n",
    "for key in sorted(my_list.keys()) :\n",
    "    print(key , my_list[key])"
   ]
  },
  {
   "cell_type": "code",
   "execution_count": 37,
   "metadata": {},
   "outputs": [
    {
     "name": "stdout",
     "output_type": "stream",
     "text": [
      "['0.8475']\n",
      "['0.0000']\n",
      "['0.6178']\n",
      "['0.0000']\n",
      "['0.6961']\n",
      "['0.0000']\n",
      "['0.7565']\n",
      "['0.0000']\n",
      "['0.7626']\n",
      "['0.0000']\n",
      "['0.7556']\n",
      "['0.0000']\n",
      "['0.7002']\n",
      "['0.0000']\n",
      "['0.7615']\n",
      "['0.0000']\n",
      "['0.7601']\n",
      "['0.0000']\n",
      "['0.7605']\n",
      "['0.0000']\n",
      "['0.6959']\n",
      "['0.0000']\n",
      "['0.7606']\n",
      "['0.0000']\n",
      "['0.7559']\n",
      "['0.0000']\n",
      "['0.7605']\n",
      "['0.0000']\n",
      "['0.6932']\n",
      "['0.0000']\n",
      "['0.7558']\n",
      "['0.0000']\n",
      "['0.6526']\n",
      "['0.0000']\n",
      "['0.6948']\n",
      "['0.0000']\n",
      "['0.6528']\n",
      "['0.0000']\n",
      "['0.7002']\n",
      "['0.0000']\n",
      "['0.7554']\n",
      "['0.0000']\n",
      "['0.6956']\n",
      "['0.0000']\n",
      "['0.6959']\n",
      "['0.0000']\n",
      "['0.7556']\n",
      "['0.0000']\n",
      "['0.9846']\n",
      "['0.0000']\n",
      "['0.8509']\n",
      "['0.0000']\n",
      "['0.9907']\n",
      "['0.0000']\n"
     ]
    }
   ],
   "source": [
    "import re\n",
    "hand=open('mbox-short.txt')\n",
    "for line in hand:\n",
    "    line=line.rstrip()\n",
    "#     if re.search('^F..m',line):\n",
    "#         print(line)\n",
    "    x=re.findall('\\S+@\\S+',line)\n",
    "    x=re.findall('^X\\S*: ([0-9.]+)',line)\n",
    "    if len(x)>0:\n",
    "        print(x)"
   ]
  },
  {
   "cell_type": "code",
   "execution_count": 47,
   "metadata": {},
   "outputs": [
    {
     "name": "stdout",
     "output_type": "stream",
     "text": [
      "Enter a regular expression.java$\n",
      "mbox-short.txt had 60 lines that matched java$\n"
     ]
    }
   ],
   "source": [
    "import re\n",
    "\n",
    "# regexp = input('Enter a regular expression: ')\n",
    "x=input('Enter a regular expression.')\n",
    "file_name='mbox-short.txt'\n",
    "file = open('mbox-short.txt')\n",
    "\n",
    "count = 0\n",
    "for line in file:\n",
    "  line=line.rstrip()\n",
    "  if re.search('\\\\b' + x + '\\\\b', line):\n",
    "    count=count+1\n",
    "print (f'{file_name} had {count} lines that matched {x}')"
   ]
  },
  {
   "cell_type": "code",
   "execution_count": 52,
   "metadata": {},
   "outputs": [
    {
     "name": "stdout",
     "output_type": "stream",
     "text": [
      "Enter file:mbox-short.txt\n",
      "39756\n"
     ]
    }
   ],
   "source": [
    "import re\n",
    "count = 0\n",
    "revisions = 0\n",
    "x=input('Enter file:')\n",
    "#Opening the file so that we can search through it\n",
    "hand = open(x)\n",
    "#Going through each line of the file to find all the instance of the words 'New Revision: \n",
    "#397*' After we've found this in the code, we're going to slice and extract the number.\n",
    "#We'll count each instance and add each new found one to the next to make the sum\n",
    "for line in hand:\n",
    "    line = line.rstrip()\n",
    "    if re.findall('New Revision: 397*', line):\n",
    "      rev_num = line[14:19]\n",
    "      count += 1\n",
    "      revisions = revisions + float(rev_num)\n",
    "#Using our count and sum from before, we can not calculate the average      \n",
    "average = revisions/count\n",
    "print(int(average))"
   ]
  },
  {
   "cell_type": "code",
   "execution_count": 53,
   "metadata": {},
   "outputs": [
    {
     "name": "stdout",
     "output_type": "stream",
     "text": [
      "Enter file name: mbox-short.txt\n",
      "0.09290243193820177 e\n",
      "0.08926221523422145 a\n",
      "0.07680344538820433 i\n",
      "0.0713345752226001 o\n",
      "0.06945465110317366 r\n",
      "0.06921538803342847 t\n",
      "0.06388323962196435 s\n",
      "0.05337275477244373 u\n",
      "0.052774597098080765 c\n",
      "0.04400731461384649 n\n",
      "0.04267427751098046 p\n",
      "0.04163177413566216 m\n",
      "0.03424879941209646 d\n",
      "0.03130928169808419 l\n",
      "0.023789585220378377 h\n",
      "0.021482405619264094 f\n",
      "0.019944285885187908 k\n",
      "0.01938030864935997 b\n",
      "0.01755165518773606 g\n",
      "0.017038948609710662 v\n",
      "0.01638952027754516 j\n",
      "0.01098901098901099 y\n",
      "0.010014868490762736 w\n",
      "0.008237485686941364 x\n",
      "0.0013330371028660297 z\n",
      "0.0009741424982482526 q\n"
     ]
    }
   ],
   "source": [
    "\n",
    "import string\n",
    "\n",
    "counts = 0                          # Initialize variables\n",
    "dictionary_counts = dict()\n",
    "relative_lst = list()\n",
    "\n",
    "fname = input('Enter file name: ')\n",
    "try:\n",
    "    fhand = open(fname)\n",
    "except FileNotFoundError:\n",
    "    print('File cannot be opened:', fname)\n",
    "    exit()\n",
    "\n",
    "for line in fhand:\n",
    "    line = line.translate(str.maketrans('', '', string.digits))\n",
    "    line = line.translate(str.maketrans('', '', string.punctuation))\n",
    "    line = line.lower()\n",
    "\n",
    "    # Removes numbers and punctuation then sets all letters to lower case\n",
    "    words = line.split()\n",
    "    for word in words:\n",
    "        for letter in word:\n",
    "            # Count each letter for relative frequencies\n",
    "            counts += 1\n",
    "            if letter not in dictionary_counts:\n",
    "                dictionary_counts[letter] = 1\n",
    "            else:\n",
    "                dictionary_counts[letter] += 1\n",
    "\n",
    "for key, val in list(dictionary_counts.items()):\n",
    "    relative_lst.append((val / counts, key))  # Computes the relative frequency\n",
    "\n",
    "relative_lst.sort(reverse=True)         # Sorts from highest rel freq\n",
    "\n",
    "for key, val in relative_lst:\n",
    "    print(key, val)"
   ]
  },
  {
   "cell_type": "code",
   "execution_count": null,
   "metadata": {},
   "outputs": [],
   "source": []
  }
 ],
 "metadata": {
  "kernelspec": {
   "display_name": "Python 3",
   "language": "python",
   "name": "python3"
  },
  "language_info": {
   "codemirror_mode": {
    "name": "ipython",
    "version": 3
   },
   "file_extension": ".py",
   "mimetype": "text/x-python",
   "name": "python",
   "nbconvert_exporter": "python",
   "pygments_lexer": "ipython3",
   "version": "3.8.3"
  }
 },
 "nbformat": 4,
 "nbformat_minor": 4
}
