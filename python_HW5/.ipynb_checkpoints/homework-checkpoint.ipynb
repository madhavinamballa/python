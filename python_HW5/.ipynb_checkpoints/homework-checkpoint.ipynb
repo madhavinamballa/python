{
 "cells": [
  {
   "cell_type": "code",
   "execution_count": 1,
   "metadata": {},
   "outputs": [],
   "source": [
    "# '''Check if directory exists, if not, create it'''\n",
    "# import os\n",
    "# from pathlib import Path\n",
    "# import requests\n",
    "# def file_check(url):\n",
    "#     MYDIR = (\"source\")\n",
    "#     CHECK_FOLDER = os.path.isdir(MYDIR)\n",
    "\n",
    "#     # If folder doesn't exist, then create it.\n",
    "#     if not CHECK_FOLDER:\n",
    "#         os.makedirs(MYDIR)\n",
    "#         file_name=url.split(\"/\").pop()\n",
    "#         Path(f'{MYDIR}/{file_name}').touch()\n",
    "#         print(\"created folder : \", MYDIR)\n",
    "    \n",
    "#     else:\n",
    "#         print(MYDIR, \"folder already exists.\")"
   ]
  },
  {
   "cell_type": "code",
   "execution_count": 1,
   "metadata": {
    "scrolled": true
   },
   "outputs": [
    {
     "name": "stdout",
     "output_type": "stream",
     "text": [
      "Enter the file name: team.txt\n",
      "file cannot be opened:  team.txt\n"
     ]
    }
   ],
   "source": [
    "fname=input(\"Enter the file name: \")\n",
    "count=0\n",
    "email=[]\n",
    "try:\n",
    "    fhand=open(fname)\n",
    "    for line in fhand:\n",
    "#         line=line.strip()\n",
    "        if not line.startswith('From'):\n",
    "            continue\n",
    "        count=count+1\n",
    "        words=line.split()\n",
    "        email.append[words[1]]\n",
    "        print(words[1])\n",
    "    print('there were ',count,'lines in the file with From as the first word')\n",
    "except:\n",
    "    print('file cannot be opened: ',fname)\n",
    "    exit()"
   ]
  },
  {
   "cell_type": "code",
   "execution_count": null,
   "metadata": {},
   "outputs": [],
   "source": [
    "from collections import Counter\n",
    "list_dict=dict(Counter(email))\n",
    "print(list_dict)"
   ]
  },
  {
   "cell_type": "code",
   "execution_count": 4,
   "metadata": {},
   "outputs": [],
   "source": [
    "for key,value in list_dict.items():\n",
    "    print(key,': ',value)"
   ]
  },
  {
   "cell_type": "code",
   "execution_count": 5,
   "metadata": {},
   "outputs": [],
   "source": [
    "sort_orders = sorted(list_dict.items(), key=lambda x: x[1], reverse=True)\n",
    "\n",
    "for i in sort_orders:\n",
    "    print(i[0], i[1])\n"
   ]
  },
  {
   "cell_type": "code",
   "execution_count": null,
   "metadata": {},
   "outputs": [],
   "source": []
  }
 ],
 "metadata": {
  "kernelspec": {
   "display_name": "Python 3",
   "language": "python",
   "name": "python3"
  },
  "language_info": {
   "codemirror_mode": {
    "name": "ipython",
    "version": 3
   },
   "file_extension": ".py",
   "mimetype": "text/x-python",
   "name": "python",
   "nbconvert_exporter": "python",
   "pygments_lexer": "ipython3",
   "version": "3.8.3"
  }
 },
 "nbformat": 4,
 "nbformat_minor": 4
}
