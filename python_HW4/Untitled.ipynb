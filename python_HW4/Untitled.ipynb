{
 "cells": [
  {
   "cell_type": "code",
   "execution_count": 2,
   "metadata": {},
   "outputs": [
    {
     "name": "stdout",
     "output_type": "stream",
     "text": [
      "Enter the file name: test.txt\n",
      "file cannot be opened:  test.txt\n"
     ]
    }
   ],
   "source": [
    "fname=input(\"Enter the file name: \")\n",
    "count=0\n",
    "email=[]\n",
    "try:\n",
    "    fhand=open(fname)\n",
    "    for line in fhand:\n",
    "#         line=line.strip()\n",
    "        if not line.startswith('From'):\n",
    "            continue\n",
    "        count=count+1\n",
    "        words=line.split()\n",
    "        email.append[words[1]]\n",
    "        print(words[1])\n",
    "    print('there were ',count,'lines in the file with From as the first word')\n",
    "except:\n",
    "    print('file cannot be opened: ',fname)\n",
    "    exit()"
   ]
  },
  {
   "cell_type": "code",
   "execution_count": null,
   "metadata": {},
   "outputs": [],
   "source": []
  },
  {
   "cell_type": "code",
   "execution_count": null,
   "metadata": {},
   "outputs": [],
   "source": []
  }
 ],
 "metadata": {
  "kernelspec": {
   "display_name": "Python 3",
   "language": "python",
   "name": "python3"
  },
  "language_info": {
   "codemirror_mode": {
    "name": "ipython",
    "version": 3
   },
   "file_extension": ".py",
   "mimetype": "text/x-python",
   "name": "python",
   "nbconvert_exporter": "python",
   "pygments_lexer": "ipython3",
   "version": "3.8.3"
  }
 },
 "nbformat": 4,
 "nbformat_minor": 4
}
